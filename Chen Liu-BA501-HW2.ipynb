{
 "cells": [
  {
   "cell_type": "markdown",
   "metadata": {
    "collapsed": true
   },
   "source": [
    "### 1. How do you handle duplicate values in a dataset in Python?"
   ]
  },
  {
   "cell_type": "code",
   "execution_count": 1,
   "metadata": {
    "collapsed": true
   },
   "outputs": [],
   "source": [
    "import numpy as np\n",
    "import pandas as pd"
   ]
  },
  {
   "cell_type": "code",
   "execution_count": 2,
   "metadata": {
    "collapsed": true
   },
   "outputs": [],
   "source": [
    "#using pandas dataframe to deal with duplicates\n",
    "df = pd.DataFrame(\n",
    "    {\n",
    "        \"customer_id\": [\"A\", \"B\", \"C\", \"C\", \"D\", \"E\", \"E\"],\n",
    "        \"date\": [\"5/1/2017\", \"5/8/2017\", \"5/11/2017\",\"5/11/2017\",\"5/13/2017\", \"5/18/2017\", \"5/18/2017\"],\n",
    "        \"spend\": [10, 5, 20, 20, 18, 24, 24]\n",
    "    },\n",
    "    index = [1, 2, 3, 4, 5, 6,7],\n",
    "    columns = [\"customer_id\", \"date\", \"spend\"]\n",
    ")"
   ]
  },
  {
   "cell_type": "code",
   "execution_count": 3,
   "metadata": {},
   "outputs": [
    {
     "data": {
      "text/html": [
       "<div>\n",
       "<style>\n",
       "    .dataframe thead tr:only-child th {\n",
       "        text-align: right;\n",
       "    }\n",
       "\n",
       "    .dataframe thead th {\n",
       "        text-align: left;\n",
       "    }\n",
       "\n",
       "    .dataframe tbody tr th {\n",
       "        vertical-align: top;\n",
       "    }\n",
       "</style>\n",
       "<table border=\"1\" class=\"dataframe\">\n",
       "  <thead>\n",
       "    <tr style=\"text-align: right;\">\n",
       "      <th></th>\n",
       "      <th>customer_id</th>\n",
       "      <th>date</th>\n",
       "      <th>spend</th>\n",
       "    </tr>\n",
       "  </thead>\n",
       "  <tbody>\n",
       "    <tr>\n",
       "      <th>1</th>\n",
       "      <td>A</td>\n",
       "      <td>5/1/2017</td>\n",
       "      <td>10</td>\n",
       "    </tr>\n",
       "    <tr>\n",
       "      <th>2</th>\n",
       "      <td>B</td>\n",
       "      <td>5/8/2017</td>\n",
       "      <td>5</td>\n",
       "    </tr>\n",
       "    <tr>\n",
       "      <th>3</th>\n",
       "      <td>C</td>\n",
       "      <td>5/11/2017</td>\n",
       "      <td>20</td>\n",
       "    </tr>\n",
       "    <tr>\n",
       "      <th>4</th>\n",
       "      <td>C</td>\n",
       "      <td>5/11/2017</td>\n",
       "      <td>20</td>\n",
       "    </tr>\n",
       "    <tr>\n",
       "      <th>5</th>\n",
       "      <td>D</td>\n",
       "      <td>5/13/2017</td>\n",
       "      <td>18</td>\n",
       "    </tr>\n",
       "    <tr>\n",
       "      <th>6</th>\n",
       "      <td>E</td>\n",
       "      <td>5/18/2017</td>\n",
       "      <td>24</td>\n",
       "    </tr>\n",
       "    <tr>\n",
       "      <th>7</th>\n",
       "      <td>E</td>\n",
       "      <td>5/18/2017</td>\n",
       "      <td>24</td>\n",
       "    </tr>\n",
       "  </tbody>\n",
       "</table>\n",
       "</div>"
      ],
      "text/plain": [
       "  customer_id       date  spend\n",
       "1           A   5/1/2017     10\n",
       "2           B   5/8/2017      5\n",
       "3           C  5/11/2017     20\n",
       "4           C  5/11/2017     20\n",
       "5           D  5/13/2017     18\n",
       "6           E  5/18/2017     24\n",
       "7           E  5/18/2017     24"
      ]
     },
     "execution_count": 3,
     "metadata": {},
     "output_type": "execute_result"
    }
   ],
   "source": [
    "df"
   ]
  },
  {
   "cell_type": "code",
   "execution_count": 4,
   "metadata": {},
   "outputs": [
    {
     "data": {
      "text/plain": [
       "(7, 3)"
      ]
     },
     "execution_count": 4,
     "metadata": {},
     "output_type": "execute_result"
    }
   ],
   "source": [
    "# describe table\n",
    "df.shape"
   ]
  },
  {
   "cell_type": "code",
   "execution_count": 5,
   "metadata": {},
   "outputs": [
    {
     "data": {
      "text/plain": [
       "2"
      ]
     },
     "execution_count": 5,
     "metadata": {},
     "output_type": "execute_result"
    }
   ],
   "source": [
    "#Identify duplicates records in the data\n",
    "dupls = df.duplicated()\n",
    "sum(dupls)"
   ]
  },
  {
   "cell_type": "code",
   "execution_count": 6,
   "metadata": {},
   "outputs": [
    {
     "data": {
      "text/plain": [
       "(5, 3)"
      ]
     },
     "execution_count": 6,
     "metadata": {},
     "output_type": "execute_result"
    }
   ],
   "source": [
    "#Removing Duplicates\n",
    "df_uniq = df.drop_duplicates()\n",
    "\n",
    "df_uniq.shape"
   ]
  },
  {
   "cell_type": "code",
   "execution_count": 7,
   "metadata": {},
   "outputs": [
    {
     "data": {
      "text/html": [
       "<div>\n",
       "<style>\n",
       "    .dataframe thead tr:only-child th {\n",
       "        text-align: right;\n",
       "    }\n",
       "\n",
       "    .dataframe thead th {\n",
       "        text-align: left;\n",
       "    }\n",
       "\n",
       "    .dataframe tbody tr th {\n",
       "        vertical-align: top;\n",
       "    }\n",
       "</style>\n",
       "<table border=\"1\" class=\"dataframe\">\n",
       "  <thead>\n",
       "    <tr style=\"text-align: right;\">\n",
       "      <th></th>\n",
       "      <th>customer_id</th>\n",
       "      <th>date</th>\n",
       "      <th>spend</th>\n",
       "    </tr>\n",
       "  </thead>\n",
       "  <tbody>\n",
       "    <tr>\n",
       "      <th>1</th>\n",
       "      <td>A</td>\n",
       "      <td>5/1/2017</td>\n",
       "      <td>10</td>\n",
       "    </tr>\n",
       "    <tr>\n",
       "      <th>2</th>\n",
       "      <td>B</td>\n",
       "      <td>5/8/2017</td>\n",
       "      <td>5</td>\n",
       "    </tr>\n",
       "    <tr>\n",
       "      <th>3</th>\n",
       "      <td>C</td>\n",
       "      <td>5/11/2017</td>\n",
       "      <td>20</td>\n",
       "    </tr>\n",
       "    <tr>\n",
       "      <th>5</th>\n",
       "      <td>D</td>\n",
       "      <td>5/13/2017</td>\n",
       "      <td>18</td>\n",
       "    </tr>\n",
       "    <tr>\n",
       "      <th>6</th>\n",
       "      <td>E</td>\n",
       "      <td>5/18/2017</td>\n",
       "      <td>24</td>\n",
       "    </tr>\n",
       "  </tbody>\n",
       "</table>\n",
       "</div>"
      ],
      "text/plain": [
       "  customer_id       date  spend\n",
       "1           A   5/1/2017     10\n",
       "2           B   5/8/2017      5\n",
       "3           C  5/11/2017     20\n",
       "5           D  5/13/2017     18\n",
       "6           E  5/18/2017     24"
      ]
     },
     "execution_count": 7,
     "metadata": {},
     "output_type": "execute_result"
    }
   ],
   "source": [
    "df_uniq"
   ]
  },
  {
   "cell_type": "code",
   "execution_count": 8,
   "metadata": {
    "collapsed": true
   },
   "outputs": [],
   "source": [
    "#Identify duplicates in df data based on customer_id\n",
    "dupl_id=df.customer_id.duplicated()"
   ]
  },
  {
   "cell_type": "code",
   "execution_count": 9,
   "metadata": {},
   "outputs": [
    {
     "data": {
      "text/plain": [
       "1    False\n",
       "2    False\n",
       "3    False\n",
       "4     True\n",
       "5    False\n",
       "6    False\n",
       "7     True\n",
       "Name: customer_id, dtype: bool"
      ]
     },
     "execution_count": 9,
     "metadata": {},
     "output_type": "execute_result"
    }
   ],
   "source": [
    "dupl_id"
   ]
  },
  {
   "cell_type": "code",
   "execution_count": 10,
   "metadata": {},
   "outputs": [
    {
     "data": {
      "text/plain": [
       "(5, 3)"
      ]
     },
     "execution_count": 10,
     "metadata": {},
     "output_type": "execute_result"
    }
   ],
   "source": [
    "#Removing duplicates based on a variable\n",
    "df_cust_uniq=df.drop_duplicates(['customer_id'])\n",
    "\n",
    "df_cust_uniq.shape"
   ]
  },
  {
   "cell_type": "code",
   "execution_count": 11,
   "metadata": {},
   "outputs": [
    {
     "data": {
      "text/html": [
       "<div>\n",
       "<style>\n",
       "    .dataframe thead tr:only-child th {\n",
       "        text-align: right;\n",
       "    }\n",
       "\n",
       "    .dataframe thead th {\n",
       "        text-align: left;\n",
       "    }\n",
       "\n",
       "    .dataframe tbody tr th {\n",
       "        vertical-align: top;\n",
       "    }\n",
       "</style>\n",
       "<table border=\"1\" class=\"dataframe\">\n",
       "  <thead>\n",
       "    <tr style=\"text-align: right;\">\n",
       "      <th></th>\n",
       "      <th>customer_id</th>\n",
       "      <th>date</th>\n",
       "      <th>spend</th>\n",
       "    </tr>\n",
       "  </thead>\n",
       "  <tbody>\n",
       "    <tr>\n",
       "      <th>1</th>\n",
       "      <td>A</td>\n",
       "      <td>5/1/2017</td>\n",
       "      <td>10</td>\n",
       "    </tr>\n",
       "    <tr>\n",
       "      <th>2</th>\n",
       "      <td>B</td>\n",
       "      <td>5/8/2017</td>\n",
       "      <td>5</td>\n",
       "    </tr>\n",
       "    <tr>\n",
       "      <th>3</th>\n",
       "      <td>C</td>\n",
       "      <td>5/11/2017</td>\n",
       "      <td>20</td>\n",
       "    </tr>\n",
       "    <tr>\n",
       "      <th>5</th>\n",
       "      <td>D</td>\n",
       "      <td>5/13/2017</td>\n",
       "      <td>18</td>\n",
       "    </tr>\n",
       "    <tr>\n",
       "      <th>6</th>\n",
       "      <td>E</td>\n",
       "      <td>5/18/2017</td>\n",
       "      <td>24</td>\n",
       "    </tr>\n",
       "  </tbody>\n",
       "</table>\n",
       "</div>"
      ],
      "text/plain": [
       "  customer_id       date  spend\n",
       "1           A   5/1/2017     10\n",
       "2           B   5/8/2017      5\n",
       "3           C  5/11/2017     20\n",
       "5           D  5/13/2017     18\n",
       "6           E  5/18/2017     24"
      ]
     },
     "execution_count": 11,
     "metadata": {},
     "output_type": "execute_result"
    }
   ],
   "source": [
    "df_cust_uniq"
   ]
  },
  {
   "cell_type": "code",
   "execution_count": 12,
   "metadata": {},
   "outputs": [
    {
     "data": {
      "text/plain": [
       "array([1, 2, 4, 5])"
      ]
     },
     "execution_count": 12,
     "metadata": {},
     "output_type": "execute_result"
    }
   ],
   "source": [
    "# using nupmy array to deal with duplicates\n",
    "my_array = np.array([1, 2, 2, 4, 5])\n",
    "np.unique(my_array)"
   ]
  },
  {
   "cell_type": "markdown",
   "metadata": {},
   "source": [
    "### 2.You are given two tables - friend_request and request_accepted. Friend_request contains requester_id, time and sent_to_id and request_accepted table contains time, acceptor_id and requestor_id. How will you determine the overall acceptance rate of requests? Write in both Python and SQL."
   ]
  },
  {
   "cell_type": "code",
   "execution_count": null,
   "metadata": {
    "collapsed": true
   },
   "outputs": [],
   "source": [
    "#SQL\n",
    "Assume you have to wait 1 week before a friend request is considered rejected.\n",
    "\n",
    "SELECT ROUND(100 * COUNT(CASE WHEN a.requestor_id IS NULL 1 ELSE 0 END)/ COUNT(r.requester_id),2) AS acceptance_rate\n",
    "FROM friend_request AS r\n",
    "LEFT JOIN request_accepted AS a\n",
    "ON r.sent_to_id = a.acceptor_id\n",
    "AND r.requester_id = a.requestor_id\n",
    "WHERE date(r.time) >= date_add(current_date(),-7DAYS)"
   ]
  },
  {
   "cell_type": "code",
   "execution_count": null,
   "metadata": {
    "collapsed": true
   },
   "outputs": [],
   "source": [
    "#PYTHON: \n",
    "fr = np.unique(friend_request[\"requester_id\"],[\"sent_to_id\"])\n",
    "ra = pd.merge(friend_request,request_accepted, how='left', on = '[\"sent_to_id\", \"acceptor_id\"]' & '[\"requester_id\", \"requestor_id\"]')\n",
    "acceptance_rate =ra.shape[0] / fr.shape[0] \n",
    "#don't know how to write WHERE in python, confused about translating sql into python."
   ]
  },
  {
   "cell_type": "markdown",
   "metadata": {},
   "source": [
    "### 3.“Issuer” of a credit card are companies like Visa, Mastercard, American Express. Now we know the following rules:\n",
    "CC number starts with: '4' CC len : 16 Issuer: VISA\n",
    "CC number starts with: '34', '37' CC len : 15 Issuer : AMEX\n",
    "CC number starts with: '36' CC len : 14 Issuer : Diners Club\n",
    "Credit card number starts with '4026', '417500', '4405', '4508', '4844', '4913', '4917' CC len : 16 Issuer : VISAELECTRON\n",
    "Now write Python scripts to identify the issuer of the following credit card numbers:\n",
    "'4175004175004172' '4917491749174917' '346416800707698' '376416800707698' '37641680070769832112' '36641680070769' '54545641680070769’"
   ]
  },
  {
   "cell_type": "code",
   "execution_count": 17,
   "metadata": {},
   "outputs": [
    {
     "name": "stdout",
     "output_type": "stream",
     "text": [
      "4175004175004172 Issuer: VISA\n",
      "4917491749174917 Issuer: VISAELECTRON\n",
      "346416800707698 Issuer: AMEX\n",
      "376416800707698 Issuer: AMEX\n",
      "37641680070769832112: THe issuer of the credit card number cannot be indentified!\n",
      "36641680070769 Issuer: Diners Club\n",
      "54545641680070769: THe issuer of the credit card number cannot be indentified!\n"
     ]
    }
   ],
   "source": [
    "def identify_cc_issuer(cc_num): \n",
    "    \n",
    "    card_nums = ['4175004175004172', '4917491749174917', '346416800707698','376416800707698',\n",
    "                '37641680070769832112','36641680070769','54545641680070769']\n",
    "    \n",
    "    start_with = ['4026', '4405', '4508', '4844','4913', '4917']\n",
    "    if (cc_num[0:1] == '4') and (len(cc_num) == 16):\n",
    "        if (cc_num[0:4] in start_with) or (cc_num[0:2] == '417500') :\n",
    "            print cc_num + (\" Issuer: VISAELECTRON\")\n",
    "        else:\n",
    "            print cc_num + (\" Issuer: VISA\")\n",
    "    \n",
    "    elif(cc_num[0:2] == '34'or cc_num[0:2] == '37') and (len(cc_num) == 15):\n",
    "         print cc_num + (\" Issuer: AMEX\")\n",
    "    \n",
    "    elif(cc_num[0:2] == '36')or (len(cc_num) == 14):\n",
    "        print cc_num + (\" Issuer: Diners Club\")\n",
    "    \n",
    "    else:\n",
    "        print cc_num + (\": THe issuer of the credit card number cannot be indentified!\")   \n",
    "        \n",
    "for cc_num in card_nums:\n",
    "        identify_cc_issuer(cc_num)"
   ]
  }
 ],
 "metadata": {
  "kernelspec": {
   "display_name": "Python 2",
   "language": "python",
   "name": "python2"
  },
  "language_info": {
   "codemirror_mode": {
    "name": "ipython",
    "version": 2
   },
   "file_extension": ".py",
   "mimetype": "text/x-python",
   "name": "python",
   "nbconvert_exporter": "python",
   "pygments_lexer": "ipython2",
   "version": "2.7.14"
  }
 },
 "nbformat": 4,
 "nbformat_minor": 2
}
